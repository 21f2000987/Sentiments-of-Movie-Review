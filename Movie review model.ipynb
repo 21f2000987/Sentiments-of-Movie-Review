{
 "cells": [
  {
   "cell_type": "code",
   "execution_count": 1,
   "id": "96284b26",
   "metadata": {
    "_cell_guid": "b1076dfc-b9ad-4769-8c92-a6c4dae69d19",
    "_uuid": "8f2839f25d086af736a60e9eeb907d3b93b6e0e5",
    "execution": {
     "iopub.execute_input": "2023-07-03T18:18:37.170802Z",
     "iopub.status.busy": "2023-07-03T18:18:37.170336Z",
     "iopub.status.idle": "2023-07-03T18:18:37.185221Z",
     "shell.execute_reply": "2023-07-03T18:18:37.184275Z"
    },
    "papermill": {
     "duration": 0.033042,
     "end_time": "2023-07-03T18:18:37.188003",
     "exception": false,
     "start_time": "2023-07-03T18:18:37.154961",
     "status": "completed"
    },
    "tags": []
   },
   "outputs": [
    {
     "name": "stdout",
     "output_type": "stream",
     "text": [
      "/kaggle/input/sentiment-prediction-on-movie-reviews/movies.csv\n",
      "/kaggle/input/sentiment-prediction-on-movie-reviews/sample.csv\n",
      "/kaggle/input/sentiment-prediction-on-movie-reviews/train.csv\n",
      "/kaggle/input/sentiment-prediction-on-movie-reviews/test.csv\n"
     ]
    }
   ],
   "source": [
    "# This Python 3 environment comes with many helpful analytics libraries installed\n",
    "# It is defined by the kaggle/python Docker image: https://github.com/kaggle/docker-python\n",
    "# For example, here's several helpful packages to load\n",
    "\n",
    "import numpy as np # linear algebra\n",
    "import pandas as pd # data processing, CSV file I/O (e.g. pd.read_csv)\n",
    "\n",
    "# Input data files are available in the read-only \"../input/\" directory\n",
    "# For example, running this (by clicking run or pressing Shift+Enter) will list all files under the input directory\n",
    "\n",
    "import os\n",
    "for dirname, _, filenames in os.walk('/kaggle/input'):\n",
    "    for filename in filenames:\n",
    "        print(os.path.join(dirname, filename))\n",
    "\n",
    "# You can write up to 20GB to the current directory (/kaggle/working/) that gets preserved as output when you create a version using \"Save & Run All\" \n",
    "# You can also write temporary files to /kaggle/temp/, but they won't be saved outside of the current session"
   ]
  },
  {
   "cell_type": "code",
   "execution_count": 2,
   "id": "2543ffd3",
   "metadata": {
    "execution": {
     "iopub.execute_input": "2023-07-03T18:18:37.212738Z",
     "iopub.status.busy": "2023-07-03T18:18:37.212319Z",
     "iopub.status.idle": "2023-07-03T18:18:39.579843Z",
     "shell.execute_reply": "2023-07-03T18:18:39.578843Z"
    },
    "papermill": {
     "duration": 2.383238,
     "end_time": "2023-07-03T18:18:39.582739",
     "exception": false,
     "start_time": "2023-07-03T18:18:37.199501",
     "status": "completed"
    },
    "tags": []
   },
   "outputs": [],
   "source": [
    "movie=pd.read_csv(\"/kaggle/input/sentiment-prediction-on-movie-reviews/movies.csv\")\n",
    "sample=pd.read_csv(\"/kaggle/input/sentiment-prediction-on-movie-reviews/sample.csv\")\n",
    "train=pd.read_csv(\"/kaggle/input/sentiment-prediction-on-movie-reviews/train.csv\")\n",
    "test=pd.read_csv(\"/kaggle/input/sentiment-prediction-on-movie-reviews/test.csv\")"
   ]
  },
  {
   "cell_type": "code",
   "execution_count": 3,
   "id": "55ba0216",
   "metadata": {
    "execution": {
     "iopub.execute_input": "2023-07-03T18:18:39.607241Z",
     "iopub.status.busy": "2023-07-03T18:18:39.606821Z",
     "iopub.status.idle": "2023-07-03T18:18:39.613373Z",
     "shell.execute_reply": "2023-07-03T18:18:39.612169Z"
    },
    "papermill": {
     "duration": 0.021795,
     "end_time": "2023-07-03T18:18:39.616123",
     "exception": false,
     "start_time": "2023-07-03T18:18:39.594328",
     "status": "completed"
    },
    "tags": []
   },
   "outputs": [
    {
     "name": "stdout",
     "output_type": "stream",
     "text": [
      "Movie:  (143258, 14)\n",
      "Sample:  (55315, 2)\n",
      "train:  (162758, 5)\n",
      "test:  (55315, 4)\n"
     ]
    }
   ],
   "source": [
    "print('Movie: ',movie.shape)\n",
    "print('Sample: ',sample.shape)\n",
    "print('train: ',train.shape)\n",
    "print('test: ',test.shape)"
   ]
  },
  {
   "cell_type": "code",
   "execution_count": 4,
   "id": "9fe7908c",
   "metadata": {
    "execution": {
     "iopub.execute_input": "2023-07-03T18:18:39.640544Z",
     "iopub.status.busy": "2023-07-03T18:18:39.640118Z",
     "iopub.status.idle": "2023-07-03T18:18:39.647318Z",
     "shell.execute_reply": "2023-07-03T18:18:39.646092Z"
    },
    "papermill": {
     "duration": 0.021989,
     "end_time": "2023-07-03T18:18:39.649538",
     "exception": false,
     "start_time": "2023-07-03T18:18:39.627549",
     "status": "completed"
    },
    "tags": []
   },
   "outputs": [
    {
     "name": "stdout",
     "output_type": "stream",
     "text": [
      "Index(['movieid', 'title', 'audienceScore', 'rating', 'ratingContents',\n",
      "       'releaseDateTheaters', 'releaseDateStreaming', 'runtimeMinutes',\n",
      "       'genre', 'originalLanguage', 'director', 'boxOffice', 'distributor',\n",
      "       'soundType'],\n",
      "      dtype='object')\n",
      "Index(['movieid', 'reviewerName', 'isFrequentReviewer', 'reviewText',\n",
      "       'sentiment'],\n",
      "      dtype='object')\n",
      "Index(['movieid', 'reviewerName', 'isTopCritic', 'reviewText'], dtype='object')\n"
     ]
    }
   ],
   "source": [
    "print(movie.columns)\n",
    "print(train.columns)\n",
    "print(test.columns)"
   ]
  },
  {
   "cell_type": "code",
   "execution_count": 5,
   "id": "af8d44dc",
   "metadata": {
    "execution": {
     "iopub.execute_input": "2023-07-03T18:18:39.675455Z",
     "iopub.status.busy": "2023-07-03T18:18:39.674299Z",
     "iopub.status.idle": "2023-07-03T18:18:39.684136Z",
     "shell.execute_reply": "2023-07-03T18:18:39.682954Z"
    },
    "papermill": {
     "duration": 0.02607,
     "end_time": "2023-07-03T18:18:39.687079",
     "exception": false,
     "start_time": "2023-07-03T18:18:39.661009",
     "status": "completed"
    },
    "tags": []
   },
   "outputs": [
    {
     "data": {
      "text/plain": [
       "Index(['id', 'sentiment'], dtype='object')"
      ]
     },
     "execution_count": 5,
     "metadata": {},
     "output_type": "execute_result"
    }
   ],
   "source": [
    "sample.columns"
   ]
  },
  {
   "cell_type": "code",
   "execution_count": 6,
   "id": "cb167b44",
   "metadata": {
    "execution": {
     "iopub.execute_input": "2023-07-03T18:18:39.713968Z",
     "iopub.status.busy": "2023-07-03T18:18:39.713490Z",
     "iopub.status.idle": "2023-07-03T18:18:39.728289Z",
     "shell.execute_reply": "2023-07-03T18:18:39.727349Z"
    },
    "papermill": {
     "duration": 0.030796,
     "end_time": "2023-07-03T18:18:39.730631",
     "exception": false,
     "start_time": "2023-07-03T18:18:39.699835",
     "status": "completed"
    },
    "tags": []
   },
   "outputs": [
    {
     "data": {
      "text/plain": [
       "Index(['movieid', 'reviewerName', 'isFrequentReviewer', 'reviewText'], dtype='object')"
      ]
     },
     "execution_count": 6,
     "metadata": {},
     "output_type": "execute_result"
    }
   ],
   "source": [
    "test.rename(columns={'isTopCritic':'isFrequentReviewer'}, inplace=True)\n",
    "test.columns"
   ]
  },
  {
   "cell_type": "code",
   "execution_count": 7,
   "id": "22e9ebda",
   "metadata": {
    "execution": {
     "iopub.execute_input": "2023-07-03T18:18:39.757336Z",
     "iopub.status.busy": "2023-07-03T18:18:39.756542Z",
     "iopub.status.idle": "2023-07-03T18:18:40.260763Z",
     "shell.execute_reply": "2023-07-03T18:18:40.259500Z"
    },
    "papermill": {
     "duration": 0.520234,
     "end_time": "2023-07-03T18:18:40.263390",
     "exception": false,
     "start_time": "2023-07-03T18:18:39.743156",
     "status": "completed"
    },
    "tags": []
   },
   "outputs": [
    {
     "data": {
      "text/plain": [
       "movieid                      0\n",
       "title                        0\n",
       "audienceScore            70010\n",
       "rating                  129267\n",
       "ratingContents          129267\n",
       "releaseDateTheaters     112485\n",
       "releaseDateStreaming     63838\n",
       "runtimeMinutes           13827\n",
       "genre                    11083\n",
       "originalLanguage         13858\n",
       "director                     0\n",
       "boxOffice               128515\n",
       "distributor             120253\n",
       "soundType               127341\n",
       "dtype: int64"
      ]
     },
     "execution_count": 7,
     "metadata": {},
     "output_type": "execute_result"
    }
   ],
   "source": [
    "movie.isna().sum()"
   ]
  },
  {
   "cell_type": "code",
   "execution_count": 8,
   "id": "e2f34932",
   "metadata": {
    "execution": {
     "iopub.execute_input": "2023-07-03T18:18:40.289508Z",
     "iopub.status.busy": "2023-07-03T18:18:40.289085Z",
     "iopub.status.idle": "2023-07-03T18:18:40.510848Z",
     "shell.execute_reply": "2023-07-03T18:18:40.509550Z"
    },
    "papermill": {
     "duration": 0.238225,
     "end_time": "2023-07-03T18:18:40.513594",
     "exception": false,
     "start_time": "2023-07-03T18:18:40.275369",
     "status": "completed"
    },
    "tags": []
   },
   "outputs": [
    {
     "data": {
      "text/plain": [
       "movieid                  0\n",
       "reviewerName             0\n",
       "isFrequentReviewer       0\n",
       "reviewText            6447\n",
       "sentiment                0\n",
       "dtype: int64"
      ]
     },
     "execution_count": 8,
     "metadata": {},
     "output_type": "execute_result"
    }
   ],
   "source": [
    "train.isna().sum()"
   ]
  },
  {
   "cell_type": "code",
   "execution_count": 9,
   "id": "a606d134",
   "metadata": {
    "execution": {
     "iopub.execute_input": "2023-07-03T18:18:40.539535Z",
     "iopub.status.busy": "2023-07-03T18:18:40.539074Z",
     "iopub.status.idle": "2023-07-03T18:18:40.604084Z",
     "shell.execute_reply": "2023-07-03T18:18:40.602881Z"
    },
    "papermill": {
     "duration": 0.081247,
     "end_time": "2023-07-03T18:18:40.606898",
     "exception": false,
     "start_time": "2023-07-03T18:18:40.525651",
     "status": "completed"
    },
    "tags": []
   },
   "outputs": [
    {
     "data": {
      "text/plain": [
       "movieid                  0\n",
       "reviewerName             0\n",
       "isFrequentReviewer       0\n",
       "reviewText            2510\n",
       "dtype: int64"
      ]
     },
     "execution_count": 9,
     "metadata": {},
     "output_type": "execute_result"
    }
   ],
   "source": [
    "test.isna().sum()"
   ]
  },
  {
   "cell_type": "code",
   "execution_count": 10,
   "id": "fd20da79",
   "metadata": {
    "execution": {
     "iopub.execute_input": "2023-07-03T18:18:40.633643Z",
     "iopub.status.busy": "2023-07-03T18:18:40.633062Z",
     "iopub.status.idle": "2023-07-03T18:18:40.658940Z",
     "shell.execute_reply": "2023-07-03T18:18:40.657979Z"
    },
    "papermill": {
     "duration": 0.04208,
     "end_time": "2023-07-03T18:18:40.661307",
     "exception": false,
     "start_time": "2023-07-03T18:18:40.619227",
     "status": "completed"
    },
    "tags": []
   },
   "outputs": [
    {
     "data": {
      "text/html": [
       "<div>\n",
       "<style scoped>\n",
       "    .dataframe tbody tr th:only-of-type {\n",
       "        vertical-align: middle;\n",
       "    }\n",
       "\n",
       "    .dataframe tbody tr th {\n",
       "        vertical-align: top;\n",
       "    }\n",
       "\n",
       "    .dataframe thead th {\n",
       "        text-align: right;\n",
       "    }\n",
       "</style>\n",
       "<table border=\"1\" class=\"dataframe\">\n",
       "  <thead>\n",
       "    <tr style=\"text-align: right;\">\n",
       "      <th></th>\n",
       "      <th>id</th>\n",
       "      <th>sentiment</th>\n",
       "    </tr>\n",
       "  </thead>\n",
       "  <tbody>\n",
       "    <tr>\n",
       "      <th>0</th>\n",
       "      <td>0</td>\n",
       "      <td>NEGATIVE</td>\n",
       "    </tr>\n",
       "    <tr>\n",
       "      <th>1</th>\n",
       "      <td>1</td>\n",
       "      <td>NEGATIVE</td>\n",
       "    </tr>\n",
       "    <tr>\n",
       "      <th>2</th>\n",
       "      <td>2</td>\n",
       "      <td>NEGATIVE</td>\n",
       "    </tr>\n",
       "    <tr>\n",
       "      <th>3</th>\n",
       "      <td>3</td>\n",
       "      <td>NEGATIVE</td>\n",
       "    </tr>\n",
       "    <tr>\n",
       "      <th>4</th>\n",
       "      <td>4</td>\n",
       "      <td>NEGATIVE</td>\n",
       "    </tr>\n",
       "  </tbody>\n",
       "</table>\n",
       "</div>"
      ],
      "text/plain": [
       "   id sentiment\n",
       "0   0  NEGATIVE\n",
       "1   1  NEGATIVE\n",
       "2   2  NEGATIVE\n",
       "3   3  NEGATIVE\n",
       "4   4  NEGATIVE"
      ]
     },
     "execution_count": 10,
     "metadata": {},
     "output_type": "execute_result"
    }
   ],
   "source": [
    "sample.head()"
   ]
  },
  {
   "cell_type": "code",
   "execution_count": 11,
   "id": "a4c6d44a",
   "metadata": {
    "execution": {
     "iopub.execute_input": "2023-07-03T18:18:40.690338Z",
     "iopub.status.busy": "2023-07-03T18:18:40.689638Z",
     "iopub.status.idle": "2023-07-03T18:18:40.840068Z",
     "shell.execute_reply": "2023-07-03T18:18:40.839057Z"
    },
    "papermill": {
     "duration": 0.168447,
     "end_time": "2023-07-03T18:18:40.842615",
     "exception": false,
     "start_time": "2023-07-03T18:18:40.674168",
     "status": "completed"
    },
    "tags": []
   },
   "outputs": [
    {
     "data": {
      "text/plain": [
       "escape_the_terminator_tyler_durden_astonish         367\n",
       "silent_mystery_the_terminator                        17\n",
       "crimson_james_t._kirk_marty_mcfly_hulk               17\n",
       "darth_vader_dazzling_courageous_holly_golightly      16\n",
       "rocky_balboa_wonder_woman_majestic_emerald           16\n",
       "                                                   ... \n",
       "anakin_skywalker_frodo_baggins_t-800_black_widow      1\n",
       "phantom_hannibal_lecter_don_vito_corleone_pirate      1\n",
       "v_bruce_wayne_stardust                                1\n",
       "mystery_lara_croft_tony_montana                       1\n",
       "wonder_hermione_granger_hulk_v                        1\n",
       "Name: movieid, Length: 126404, dtype: int64"
      ]
     },
     "execution_count": 11,
     "metadata": {},
     "output_type": "execute_result"
    }
   ],
   "source": [
    "movie['movieid'].value_counts()"
   ]
  },
  {
   "cell_type": "code",
   "execution_count": 12,
   "id": "acdc2514",
   "metadata": {
    "execution": {
     "iopub.execute_input": "2023-07-03T18:18:40.870412Z",
     "iopub.status.busy": "2023-07-03T18:18:40.869796Z",
     "iopub.status.idle": "2023-07-03T18:18:40.917305Z",
     "shell.execute_reply": "2023-07-03T18:18:40.916101Z"
    },
    "papermill": {
     "duration": 0.06437,
     "end_time": "2023-07-03T18:18:40.919760",
     "exception": false,
     "start_time": "2023-07-03T18:18:40.855390",
     "status": "completed"
    },
    "tags": []
   },
   "outputs": [
    {
     "data": {
      "text/plain": [
       "escape_the_terminator_tyler_durden_astonish    708\n",
       "fantasy_forrest_gump_intrigue                  245\n",
       "james_t._kirk_marty_mcfly_astonish             186\n",
       "marvelous_lara_croft_luke_skywalker            140\n",
       "michael_corleone_v_marty_mcfly_tony_stark      138\n",
       "                                              ... \n",
       "james_bond_legend_marty_mcfly_elegant            1\n",
       "myriad_aurora_edward_scissorhands                1\n",
       "mystic_ferris_bueller_spectacular                1\n",
       "crimson_velvet                                   1\n",
       "forrest_gump_fantasy_epic                        1\n",
       "Name: movieid, Length: 16812, dtype: int64"
      ]
     },
     "execution_count": 12,
     "metadata": {},
     "output_type": "execute_result"
    }
   ],
   "source": [
    "train['movieid'].value_counts()"
   ]
  },
  {
   "cell_type": "code",
   "execution_count": 13,
   "id": "ba838132",
   "metadata": {
    "execution": {
     "iopub.execute_input": "2023-07-03T18:18:40.947437Z",
     "iopub.status.busy": "2023-07-03T18:18:40.946807Z",
     "iopub.status.idle": "2023-07-03T18:18:40.959785Z",
     "shell.execute_reply": "2023-07-03T18:18:40.958483Z"
    },
    "papermill": {
     "duration": 0.029904,
     "end_time": "2023-07-03T18:18:40.962417",
     "exception": false,
     "start_time": "2023-07-03T18:18:40.932513",
     "status": "completed"
    },
    "tags": []
   },
   "outputs": [
    {
     "data": {
      "text/html": [
       "<div>\n",
       "<style scoped>\n",
       "    .dataframe tbody tr th:only-of-type {\n",
       "        vertical-align: middle;\n",
       "    }\n",
       "\n",
       "    .dataframe tbody tr th {\n",
       "        vertical-align: top;\n",
       "    }\n",
       "\n",
       "    .dataframe thead th {\n",
       "        text-align: right;\n",
       "    }\n",
       "</style>\n",
       "<table border=\"1\" class=\"dataframe\">\n",
       "  <thead>\n",
       "    <tr style=\"text-align: right;\">\n",
       "      <th></th>\n",
       "      <th>movieid</th>\n",
       "      <th>reviewerName</th>\n",
       "      <th>isFrequentReviewer</th>\n",
       "      <th>reviewText</th>\n",
       "      <th>sentiment</th>\n",
       "    </tr>\n",
       "  </thead>\n",
       "  <tbody>\n",
       "    <tr>\n",
       "      <th>0</th>\n",
       "      <td>marvelous_pirate</td>\n",
       "      <td>Benjamin Henry</td>\n",
       "      <td>False</td>\n",
       "      <td>Henry Selick’s first movie since 2009’s Corali...</td>\n",
       "      <td>POSITIVE</td>\n",
       "    </tr>\n",
       "    <tr>\n",
       "      <th>1</th>\n",
       "      <td>tony_montana_frodo_baggins_v_rocky_balboa</td>\n",
       "      <td>Felicia Lopez</td>\n",
       "      <td>False</td>\n",
       "      <td>With a cast that reads like the Vogue Oscar pa...</td>\n",
       "      <td>NEGATIVE</td>\n",
       "    </tr>\n",
       "    <tr>\n",
       "      <th>2</th>\n",
       "      <td>darth_vader_katniss_everdeen_sorcerer_donnie_d...</td>\n",
       "      <td>Mr. Charles Burgess</td>\n",
       "      <td>True</td>\n",
       "      <td>Creed II does not give us anything but another...</td>\n",
       "      <td>POSITIVE</td>\n",
       "    </tr>\n",
       "    <tr>\n",
       "      <th>3</th>\n",
       "      <td>lara_croft_glimmer</td>\n",
       "      <td>Ryan Barrett</td>\n",
       "      <td>False</td>\n",
       "      <td>I know what you're thinking, but this is no Li...</td>\n",
       "      <td>POSITIVE</td>\n",
       "    </tr>\n",
       "    <tr>\n",
       "      <th>4</th>\n",
       "      <td>jason_bourne_surreal_the_terminator_indiana_jones</td>\n",
       "      <td>Alexander Glover</td>\n",
       "      <td>False</td>\n",
       "      <td>Director Fernando Meirelles tells the story wi...</td>\n",
       "      <td>POSITIVE</td>\n",
       "    </tr>\n",
       "  </tbody>\n",
       "</table>\n",
       "</div>"
      ],
      "text/plain": [
       "                                             movieid         reviewerName  \\\n",
       "0                                   marvelous_pirate       Benjamin Henry   \n",
       "1          tony_montana_frodo_baggins_v_rocky_balboa        Felicia Lopez   \n",
       "2  darth_vader_katniss_everdeen_sorcerer_donnie_d...  Mr. Charles Burgess   \n",
       "3                                 lara_croft_glimmer         Ryan Barrett   \n",
       "4  jason_bourne_surreal_the_terminator_indiana_jones     Alexander Glover   \n",
       "\n",
       "   isFrequentReviewer                                         reviewText  \\\n",
       "0               False  Henry Selick’s first movie since 2009’s Corali...   \n",
       "1               False  With a cast that reads like the Vogue Oscar pa...   \n",
       "2                True  Creed II does not give us anything but another...   \n",
       "3               False  I know what you're thinking, but this is no Li...   \n",
       "4               False  Director Fernando Meirelles tells the story wi...   \n",
       "\n",
       "  sentiment  \n",
       "0  POSITIVE  \n",
       "1  NEGATIVE  \n",
       "2  POSITIVE  \n",
       "3  POSITIVE  \n",
       "4  POSITIVE  "
      ]
     },
     "execution_count": 13,
     "metadata": {},
     "output_type": "execute_result"
    }
   ],
   "source": [
    "train.head()"
   ]
  },
  {
   "cell_type": "code",
   "execution_count": 14,
   "id": "553bdcb6",
   "metadata": {
    "execution": {
     "iopub.execute_input": "2023-07-03T18:18:40.991628Z",
     "iopub.status.busy": "2023-07-03T18:18:40.990584Z",
     "iopub.status.idle": "2023-07-03T18:18:41.231039Z",
     "shell.execute_reply": "2023-07-03T18:18:41.229780Z"
    },
    "papermill": {
     "duration": 0.257612,
     "end_time": "2023-07-03T18:18:41.233645",
     "exception": false,
     "start_time": "2023-07-03T18:18:40.976033",
     "status": "completed"
    },
    "tags": []
   },
   "outputs": [
    {
     "name": "stdout",
     "output_type": "stream",
     "text": [
      "(162758, 5)\n"
     ]
    },
    {
     "data": {
      "text/plain": [
       "(156311, 5)"
      ]
     },
     "execution_count": 14,
     "metadata": {},
     "output_type": "execute_result"
    }
   ],
   "source": [
    "print(train.shape)\n",
    "train.dropna(inplace=True)\n",
    "train.shape"
   ]
  },
  {
   "cell_type": "code",
   "execution_count": 15,
   "id": "38df2645",
   "metadata": {
    "execution": {
     "iopub.execute_input": "2023-07-03T18:18:41.263412Z",
     "iopub.status.busy": "2023-07-03T18:18:41.262970Z",
     "iopub.status.idle": "2023-07-03T18:18:41.277530Z",
     "shell.execute_reply": "2023-07-03T18:18:41.276310Z"
    },
    "papermill": {
     "duration": 0.032622,
     "end_time": "2023-07-03T18:18:41.280150",
     "exception": false,
     "start_time": "2023-07-03T18:18:41.247528",
     "status": "completed"
    },
    "tags": []
   },
   "outputs": [],
   "source": [
    "test['reviewText'].fillna('', inplace=True)"
   ]
  },
  {
   "cell_type": "code",
   "execution_count": 16,
   "id": "fbec92f2",
   "metadata": {
    "execution": {
     "iopub.execute_input": "2023-07-03T18:18:41.309589Z",
     "iopub.status.busy": "2023-07-03T18:18:41.308629Z",
     "iopub.status.idle": "2023-07-03T18:18:41.375553Z",
     "shell.execute_reply": "2023-07-03T18:18:41.374219Z"
    },
    "papermill": {
     "duration": 0.084195,
     "end_time": "2023-07-03T18:18:41.378035",
     "exception": false,
     "start_time": "2023-07-03T18:18:41.293840",
     "status": "completed"
    },
    "tags": []
   },
   "outputs": [
    {
     "name": "stdout",
     "output_type": "stream",
     "text": [
      "(55315, 4)\n"
     ]
    },
    {
     "data": {
      "text/plain": [
       "(55315, 4)"
      ]
     },
     "execution_count": 16,
     "metadata": {},
     "output_type": "execute_result"
    }
   ],
   "source": [
    "print(test.shape)\n",
    "test.dropna(inplace=True)\n",
    "test.shape"
   ]
  },
  {
   "cell_type": "code",
   "execution_count": 17,
   "id": "056e8bd2",
   "metadata": {
    "execution": {
     "iopub.execute_input": "2023-07-03T18:18:41.406988Z",
     "iopub.status.busy": "2023-07-03T18:18:41.406580Z",
     "iopub.status.idle": "2023-07-03T18:18:41.420778Z",
     "shell.execute_reply": "2023-07-03T18:18:41.419725Z"
    },
    "papermill": {
     "duration": 0.031977,
     "end_time": "2023-07-03T18:18:41.423531",
     "exception": false,
     "start_time": "2023-07-03T18:18:41.391554",
     "status": "completed"
    },
    "tags": []
   },
   "outputs": [],
   "source": [
    "y = train['sentiment']\n",
    "X = train.drop(['sentiment'], axis=1)"
   ]
  },
  {
   "cell_type": "code",
   "execution_count": 18,
   "id": "5a4bdc3c",
   "metadata": {
    "execution": {
     "iopub.execute_input": "2023-07-03T18:18:41.452818Z",
     "iopub.status.busy": "2023-07-03T18:18:41.452347Z",
     "iopub.status.idle": "2023-07-03T18:18:43.381167Z",
     "shell.execute_reply": "2023-07-03T18:18:43.380041Z"
    },
    "papermill": {
     "duration": 1.946747,
     "end_time": "2023-07-03T18:18:43.383925",
     "exception": false,
     "start_time": "2023-07-03T18:18:41.437178",
     "status": "completed"
    },
    "tags": []
   },
   "outputs": [
    {
     "name": "stdout",
     "output_type": "stream",
     "text": [
      "(125048, 4) (125048,)\n",
      "(31263, 4) (31263,)\n"
     ]
    }
   ],
   "source": [
    "from sklearn.model_selection import train_test_split\n",
    "\n",
    "X_train, X_test, y_train, y_test = train_test_split(X, y, test_size=0.2, random_state=22, stratify=y)\n",
    "print(X_train.shape, y_train.shape)\n",
    "print(X_test.shape, y_test.shape)"
   ]
  },
  {
   "cell_type": "code",
   "execution_count": 19,
   "id": "817e5a7e",
   "metadata": {
    "execution": {
     "iopub.execute_input": "2023-07-03T18:18:43.413608Z",
     "iopub.status.busy": "2023-07-03T18:18:43.413231Z",
     "iopub.status.idle": "2023-07-03T18:18:43.621720Z",
     "shell.execute_reply": "2023-07-03T18:18:43.620633Z"
    },
    "papermill": {
     "duration": 0.226045,
     "end_time": "2023-07-03T18:18:43.624149",
     "exception": false,
     "start_time": "2023-07-03T18:18:43.398104",
     "status": "completed"
    },
    "tags": []
   },
   "outputs": [
    {
     "data": {
      "text/plain": [
       "movieid               0\n",
       "reviewerName          0\n",
       "isFrequentReviewer    0\n",
       "reviewText            0\n",
       "sentiment             0\n",
       "dtype: int64"
      ]
     },
     "execution_count": 19,
     "metadata": {},
     "output_type": "execute_result"
    }
   ],
   "source": [
    "train.isnull().sum()"
   ]
  },
  {
   "cell_type": "code",
   "execution_count": 20,
   "id": "372f23aa",
   "metadata": {
    "execution": {
     "iopub.execute_input": "2023-07-03T18:18:43.654602Z",
     "iopub.status.busy": "2023-07-03T18:18:43.654209Z",
     "iopub.status.idle": "2023-07-03T18:18:43.718914Z",
     "shell.execute_reply": "2023-07-03T18:18:43.717706Z"
    },
    "papermill": {
     "duration": 0.08301,
     "end_time": "2023-07-03T18:18:43.721620",
     "exception": false,
     "start_time": "2023-07-03T18:18:43.638610",
     "status": "completed"
    },
    "tags": []
   },
   "outputs": [
    {
     "data": {
      "text/plain": [
       "movieid               0\n",
       "reviewerName          0\n",
       "isFrequentReviewer    0\n",
       "reviewText            0\n",
       "dtype: int64"
      ]
     },
     "execution_count": 20,
     "metadata": {},
     "output_type": "execute_result"
    }
   ],
   "source": [
    "test.isnull().sum()"
   ]
  },
  {
   "cell_type": "code",
   "execution_count": 21,
   "id": "79090879",
   "metadata": {
    "execution": {
     "iopub.execute_input": "2023-07-03T18:18:43.751974Z",
     "iopub.status.busy": "2023-07-03T18:18:43.751211Z",
     "iopub.status.idle": "2023-07-03T18:18:43.784897Z",
     "shell.execute_reply": "2023-07-03T18:18:43.783758Z"
    },
    "papermill": {
     "duration": 0.051626,
     "end_time": "2023-07-03T18:18:43.787387",
     "exception": false,
     "start_time": "2023-07-03T18:18:43.735761",
     "status": "completed"
    },
    "tags": []
   },
   "outputs": [
    {
     "data": {
      "text/plain": [
       "Veronica Serrano      952\n",
       "Mrs. Vickie Young     815\n",
       "Heather Pena          793\n",
       "John Luna             778\n",
       "James Newman          762\n",
       "                     ... \n",
       "Dr. Janet Gonzalez      1\n",
       "Ryan Dean               1\n",
       "Joanna Li               1\n",
       "Jason Carroll           1\n",
       "Chad Mueller            1\n",
       "Name: reviewerName, Length: 4471, dtype: int64"
      ]
     },
     "execution_count": 21,
     "metadata": {},
     "output_type": "execute_result"
    }
   ],
   "source": [
    "train['reviewerName'].value_counts()"
   ]
  },
  {
   "cell_type": "code",
   "execution_count": 22,
   "id": "ce2c4c38",
   "metadata": {
    "execution": {
     "iopub.execute_input": "2023-07-03T18:18:43.817739Z",
     "iopub.status.busy": "2023-07-03T18:18:43.817053Z",
     "iopub.status.idle": "2023-07-03T18:18:46.141627Z",
     "shell.execute_reply": "2023-07-03T18:18:46.140241Z"
    },
    "papermill": {
     "duration": 2.343174,
     "end_time": "2023-07-03T18:18:46.144587",
     "exception": false,
     "start_time": "2023-07-03T18:18:43.801413",
     "status": "completed"
    },
    "tags": []
   },
   "outputs": [
    {
     "name": "stdout",
     "output_type": "stream",
     "text": [
      "(125048, 1517) (125048,)\n",
      "(31263, 1517) (31263,)\n",
      "(55315, 1517)\n"
     ]
    }
   ],
   "source": [
    "from sklearn.feature_extraction.text import TfidfVectorizer\n",
    "from sklearn.feature_extraction.text import CountVectorizer\n",
    "\n",
    "vec_reviewer = CountVectorizer()\n",
    "vec_reviewer.fit(X_train['reviewerName'].values)\n",
    "\n",
    "X_train_reviewer = vec_reviewer.transform(X_train['reviewerName'].values)\n",
    "X_test_reviewer = vec_reviewer.transform(X_test['reviewerName'].values)\n",
    "test_reviewer = vec_reviewer.transform(test['reviewerName'].values)\n",
    "\n",
    "print(X_train_reviewer.shape, y_train.shape)\n",
    "print(X_test_reviewer.shape, y_test.shape)\n",
    "print(test_reviewer.shape)"
   ]
  },
  {
   "cell_type": "code",
   "execution_count": 23,
   "id": "d4e3e694",
   "metadata": {
    "execution": {
     "iopub.execute_input": "2023-07-03T18:18:46.176182Z",
     "iopub.status.busy": "2023-07-03T18:18:46.175340Z",
     "iopub.status.idle": "2023-07-03T18:18:48.406181Z",
     "shell.execute_reply": "2023-07-03T18:18:48.404947Z"
    },
    "papermill": {
     "duration": 2.24949,
     "end_time": "2023-07-03T18:18:48.408878",
     "exception": false,
     "start_time": "2023-07-03T18:18:46.159388",
     "status": "completed"
    },
    "tags": []
   },
   "outputs": [
    {
     "name": "stdout",
     "output_type": "stream",
     "text": [
      "(125048, 16062) (125048,)\n",
      "(31263, 16062) (31263,)\n",
      "(55315, 16062)\n"
     ]
    }
   ],
   "source": [
    "vec_movieid = CountVectorizer()\n",
    "vec_movieid.fit(X_train['movieid'].values)\n",
    "\n",
    "X_train_movieid = vec_movieid.transform(X_train['movieid'].values)\n",
    "X_test_movieid = vec_movieid.transform(X_test['movieid'].values)\n",
    "test_movieid = vec_movieid.transform(test['movieid'].values)\n",
    "\n",
    "print(X_train_movieid.shape, y_train.shape)\n",
    "print(X_test_movieid.shape, y_test.shape)\n",
    "print(test_movieid.shape)"
   ]
  },
  {
   "cell_type": "code",
   "execution_count": 24,
   "id": "30dcb1dd",
   "metadata": {
    "execution": {
     "iopub.execute_input": "2023-07-03T18:18:48.442644Z",
     "iopub.status.busy": "2023-07-03T18:18:48.441331Z",
     "iopub.status.idle": "2023-07-03T18:19:58.535994Z",
     "shell.execute_reply": "2023-07-03T18:19:58.534758Z"
    },
    "papermill": {
     "duration": 70.128675,
     "end_time": "2023-07-03T18:19:58.552470",
     "exception": false,
     "start_time": "2023-07-03T18:18:48.423795",
     "status": "completed"
    },
    "tags": []
   },
   "outputs": [
    {
     "name": "stdout",
     "output_type": "stream",
     "text": [
      "(125048, 6000) (125048,)\n",
      "(31263, 6000) (31263,)\n",
      "(55315, 6000)\n"
     ]
    }
   ],
   "source": [
    "vec_text = TfidfVectorizer(min_df=10,ngram_range=(1,4), max_features=6000)\n",
    "vec_text.fit(X_train['reviewText'].values)\n",
    "\n",
    "X_train_text = vec_text.transform(X_train['reviewText'].values)\n",
    "X_test_text = vec_text.transform(X_test['reviewText'].values)\n",
    "test_text = vec_text.transform(test['reviewText'].values)\n",
    "\n",
    "print(X_train_text.shape, y_train.shape)\n",
    "print(X_test_text.shape, y_test.shape)\n",
    "print(test_text.shape)"
   ]
  },
  {
   "cell_type": "code",
   "execution_count": 25,
   "id": "250613f1",
   "metadata": {
    "execution": {
     "iopub.execute_input": "2023-07-03T18:19:58.583601Z",
     "iopub.status.busy": "2023-07-03T18:19:58.582934Z",
     "iopub.status.idle": "2023-07-03T18:19:58.607541Z",
     "shell.execute_reply": "2023-07-03T18:19:58.606244Z"
    },
    "papermill": {
     "duration": 0.043694,
     "end_time": "2023-07-03T18:19:58.610176",
     "exception": false,
     "start_time": "2023-07-03T18:19:58.566482",
     "status": "completed"
    },
    "tags": []
   },
   "outputs": [
    {
     "name": "stdout",
     "output_type": "stream",
     "text": [
      "(125048, 2) (125048,)\n",
      "(31263, 2) (31263,)\n",
      "(55315, 2)\n"
     ]
    }
   ],
   "source": [
    "from sklearn.preprocessing import OneHotEncoder\n",
    "\n",
    "ohe_freq = OneHotEncoder()\n",
    "ohe_freq.fit(X_train['isFrequentReviewer'].values.reshape(-1,1))\n",
    "\n",
    "X_train_freq = ohe_freq.transform(X_train['isFrequentReviewer'].values.reshape(-1,1))\n",
    "X_test_freq = ohe_freq.transform(X_test['isFrequentReviewer'].values.reshape(-1,1))\n",
    "test_freq = ohe_freq.transform(test['isFrequentReviewer'].values.reshape(-1,1))\n",
    "\n",
    "print(X_train_freq.shape, y_train.shape)\n",
    "print(X_test_freq.shape, y_test.shape)\n",
    "print(test_freq.shape)"
   ]
  },
  {
   "cell_type": "code",
   "execution_count": 26,
   "id": "6e661e33",
   "metadata": {
    "execution": {
     "iopub.execute_input": "2023-07-03T18:19:58.641389Z",
     "iopub.status.busy": "2023-07-03T18:19:58.640995Z",
     "iopub.status.idle": "2023-07-03T18:19:58.703770Z",
     "shell.execute_reply": "2023-07-03T18:19:58.702381Z"
    },
    "papermill": {
     "duration": 0.081944,
     "end_time": "2023-07-03T18:19:58.706421",
     "exception": false,
     "start_time": "2023-07-03T18:19:58.624477",
     "status": "completed"
    },
    "tags": []
   },
   "outputs": [
    {
     "name": "stdout",
     "output_type": "stream",
     "text": [
      "(125048,) (31263,)\n"
     ]
    }
   ],
   "source": [
    "from sklearn.preprocessing import LabelEncoder\n",
    "\n",
    "le = LabelEncoder()\n",
    "le.fit(y_train)\n",
    "\n",
    "y_tr = le.transform(y_train)\n",
    "y_te = le.transform(y_test)\n",
    "\n",
    "print(y_tr.shape, y_te.shape)"
   ]
  },
  {
   "cell_type": "code",
   "execution_count": 27,
   "id": "f461fcf6",
   "metadata": {
    "execution": {
     "iopub.execute_input": "2023-07-03T18:19:58.738071Z",
     "iopub.status.busy": "2023-07-03T18:19:58.737572Z",
     "iopub.status.idle": "2023-07-03T18:19:58.831427Z",
     "shell.execute_reply": "2023-07-03T18:19:58.829886Z"
    },
    "papermill": {
     "duration": 0.113144,
     "end_time": "2023-07-03T18:19:58.834011",
     "exception": false,
     "start_time": "2023-07-03T18:19:58.720867",
     "status": "completed"
    },
    "tags": []
   },
   "outputs": [
    {
     "name": "stdout",
     "output_type": "stream",
     "text": [
      "(125048, 23581) (125048,)\n",
      "(31263, 23581) (31263,)\n",
      "(55315, 23581)\n"
     ]
    }
   ],
   "source": [
    "from scipy.sparse import hstack\n",
    "\n",
    "X_tr = hstack((X_train_movieid, X_train_reviewer, X_train_freq, X_train_text))\n",
    "X_te = hstack((X_test_movieid, X_test_reviewer, X_test_freq, X_test_text))\n",
    "te = hstack((test_movieid, test_reviewer, test_freq, test_text))\n",
    "\n",
    "print(X_tr.shape, y_tr.shape)\n",
    "print(X_te.shape, y_te.shape)\n",
    "print(te.shape)"
   ]
  },
  {
   "cell_type": "code",
   "execution_count": 28,
   "id": "a53426de",
   "metadata": {
    "execution": {
     "iopub.execute_input": "2023-07-03T18:19:58.868546Z",
     "iopub.status.busy": "2023-07-03T18:19:58.867708Z",
     "iopub.status.idle": "2023-07-03T18:22:16.020501Z",
     "shell.execute_reply": "2023-07-03T18:22:16.018258Z"
    },
    "papermill": {
     "duration": 137.233092,
     "end_time": "2023-07-03T18:22:16.081747",
     "exception": false,
     "start_time": "2023-07-03T18:19:58.848655",
     "status": "completed"
    },
    "tags": []
   },
   "outputs": [
    {
     "name": "stderr",
     "output_type": "stream",
     "text": [
      "/opt/conda/lib/python3.10/site-packages/sklearn/linear_model/_logistic.py:458: ConvergenceWarning: lbfgs failed to converge (status=1):\n",
      "STOP: TOTAL NO. of ITERATIONS REACHED LIMIT.\n",
      "\n",
      "Increase the number of iterations (max_iter) or scale the data as shown in:\n",
      "    https://scikit-learn.org/stable/modules/preprocessing.html\n",
      "Please also refer to the documentation for alternative solver options:\n",
      "    https://scikit-learn.org/stable/modules/linear_model.html#logistic-regression\n",
      "  n_iter_i = _check_optimize_result(\n"
     ]
    },
    {
     "data": {
      "text/html": [
       "<style>#sk-container-id-1 {color: black;background-color: white;}#sk-container-id-1 pre{padding: 0;}#sk-container-id-1 div.sk-toggleable {background-color: white;}#sk-container-id-1 label.sk-toggleable__label {cursor: pointer;display: block;width: 100%;margin-bottom: 0;padding: 0.3em;box-sizing: border-box;text-align: center;}#sk-container-id-1 label.sk-toggleable__label-arrow:before {content: \"▸\";float: left;margin-right: 0.25em;color: #696969;}#sk-container-id-1 label.sk-toggleable__label-arrow:hover:before {color: black;}#sk-container-id-1 div.sk-estimator:hover label.sk-toggleable__label-arrow:before {color: black;}#sk-container-id-1 div.sk-toggleable__content {max-height: 0;max-width: 0;overflow: hidden;text-align: left;background-color: #f0f8ff;}#sk-container-id-1 div.sk-toggleable__content pre {margin: 0.2em;color: black;border-radius: 0.25em;background-color: #f0f8ff;}#sk-container-id-1 input.sk-toggleable__control:checked~div.sk-toggleable__content {max-height: 200px;max-width: 100%;overflow: auto;}#sk-container-id-1 input.sk-toggleable__control:checked~label.sk-toggleable__label-arrow:before {content: \"▾\";}#sk-container-id-1 div.sk-estimator input.sk-toggleable__control:checked~label.sk-toggleable__label {background-color: #d4ebff;}#sk-container-id-1 div.sk-label input.sk-toggleable__control:checked~label.sk-toggleable__label {background-color: #d4ebff;}#sk-container-id-1 input.sk-hidden--visually {border: 0;clip: rect(1px 1px 1px 1px);clip: rect(1px, 1px, 1px, 1px);height: 1px;margin: -1px;overflow: hidden;padding: 0;position: absolute;width: 1px;}#sk-container-id-1 div.sk-estimator {font-family: monospace;background-color: #f0f8ff;border: 1px dotted black;border-radius: 0.25em;box-sizing: border-box;margin-bottom: 0.5em;}#sk-container-id-1 div.sk-estimator:hover {background-color: #d4ebff;}#sk-container-id-1 div.sk-parallel-item::after {content: \"\";width: 100%;border-bottom: 1px solid gray;flex-grow: 1;}#sk-container-id-1 div.sk-label:hover label.sk-toggleable__label {background-color: #d4ebff;}#sk-container-id-1 div.sk-serial::before {content: \"\";position: absolute;border-left: 1px solid gray;box-sizing: border-box;top: 0;bottom: 0;left: 50%;z-index: 0;}#sk-container-id-1 div.sk-serial {display: flex;flex-direction: column;align-items: center;background-color: white;padding-right: 0.2em;padding-left: 0.2em;position: relative;}#sk-container-id-1 div.sk-item {position: relative;z-index: 1;}#sk-container-id-1 div.sk-parallel {display: flex;align-items: stretch;justify-content: center;background-color: white;position: relative;}#sk-container-id-1 div.sk-item::before, #sk-container-id-1 div.sk-parallel-item::before {content: \"\";position: absolute;border-left: 1px solid gray;box-sizing: border-box;top: 0;bottom: 0;left: 50%;z-index: -1;}#sk-container-id-1 div.sk-parallel-item {display: flex;flex-direction: column;z-index: 1;position: relative;background-color: white;}#sk-container-id-1 div.sk-parallel-item:first-child::after {align-self: flex-end;width: 50%;}#sk-container-id-1 div.sk-parallel-item:last-child::after {align-self: flex-start;width: 50%;}#sk-container-id-1 div.sk-parallel-item:only-child::after {width: 0;}#sk-container-id-1 div.sk-dashed-wrapped {border: 1px dashed gray;margin: 0 0.4em 0.5em 0.4em;box-sizing: border-box;padding-bottom: 0.4em;background-color: white;}#sk-container-id-1 div.sk-label label {font-family: monospace;font-weight: bold;display: inline-block;line-height: 1.2em;}#sk-container-id-1 div.sk-label-container {text-align: center;}#sk-container-id-1 div.sk-container {/* jupyter's `normalize.less` sets `[hidden] { display: none; }` but bootstrap.min.css set `[hidden] { display: none !important; }` so we also need the `!important` here to be able to override the default hidden behavior on the sphinx rendered scikit-learn.org. See: https://github.com/scikit-learn/scikit-learn/issues/21755 */display: inline-block !important;position: relative;}#sk-container-id-1 div.sk-text-repr-fallback {display: none;}</style><div id=\"sk-container-id-1\" class=\"sk-top-container\"><div class=\"sk-text-repr-fallback\"><pre>LogisticRegression()</pre><b>In a Jupyter environment, please rerun this cell to show the HTML representation or trust the notebook. <br />On GitHub, the HTML representation is unable to render, please try loading this page with nbviewer.org.</b></div><div class=\"sk-container\" hidden><div class=\"sk-item\"><div class=\"sk-estimator sk-toggleable\"><input class=\"sk-toggleable__control sk-hidden--visually\" id=\"sk-estimator-id-1\" type=\"checkbox\" checked><label for=\"sk-estimator-id-1\" class=\"sk-toggleable__label sk-toggleable__label-arrow\">LogisticRegression</label><div class=\"sk-toggleable__content\"><pre>LogisticRegression()</pre></div></div></div></div></div>"
      ],
      "text/plain": [
       "LogisticRegression()"
      ]
     },
     "execution_count": 28,
     "metadata": {},
     "output_type": "execute_result"
    }
   ],
   "source": [
    "from sklearn.linear_model import LogisticRegression\n",
    "\n",
    "lr = LogisticRegression()\n",
    "\n",
    "lr.fit(np.asarray(X_tr.todense()), y_tr)"
   ]
  },
  {
   "cell_type": "code",
   "execution_count": 29,
   "id": "a36a3a8f",
   "metadata": {
    "execution": {
     "iopub.execute_input": "2023-07-03T18:22:16.122529Z",
     "iopub.status.busy": "2023-07-03T18:22:16.122109Z",
     "iopub.status.idle": "2023-07-03T18:22:16.136723Z",
     "shell.execute_reply": "2023-07-03T18:22:16.135599Z"
    },
    "papermill": {
     "duration": 0.033108,
     "end_time": "2023-07-03T18:22:16.139039",
     "exception": false,
     "start_time": "2023-07-03T18:22:16.105931",
     "status": "completed"
    },
    "tags": []
   },
   "outputs": [
    {
     "data": {
      "text/plain": [
       "0.8253846399897643"
      ]
     },
     "execution_count": 29,
     "metadata": {},
     "output_type": "execute_result"
    }
   ],
   "source": [
    "from sklearn.metrics import accuracy_score\n",
    "\n",
    "y_pr = lr.predict(X_te)\n",
    "\n",
    "accuracy_score(y_te, y_pr)"
   ]
  },
  {
   "cell_type": "code",
   "execution_count": 30,
   "id": "c397d310",
   "metadata": {
    "execution": {
     "iopub.execute_input": "2023-07-03T18:22:16.171692Z",
     "iopub.status.busy": "2023-07-03T18:22:16.171241Z",
     "iopub.status.idle": "2023-07-03T18:22:16.193350Z",
     "shell.execute_reply": "2023-07-03T18:22:16.192234Z"
    },
    "papermill": {
     "duration": 0.041645,
     "end_time": "2023-07-03T18:22:16.195797",
     "exception": false,
     "start_time": "2023-07-03T18:22:16.154152",
     "status": "completed"
    },
    "tags": []
   },
   "outputs": [
    {
     "data": {
      "text/plain": [
       "0.8253846399897643"
      ]
     },
     "execution_count": 30,
     "metadata": {},
     "output_type": "execute_result"
    }
   ],
   "source": [
    "from sklearn.metrics import accuracy_score, precision_score, recall_score, f1_score\n",
    "f1 = f1_score(y_te, y_pr,average=\"micro\")\n",
    "f1"
   ]
  },
  {
   "cell_type": "code",
   "execution_count": 31,
   "id": "c00b148c",
   "metadata": {
    "execution": {
     "iopub.execute_input": "2023-07-03T18:22:16.228469Z",
     "iopub.status.busy": "2023-07-03T18:22:16.227582Z",
     "iopub.status.idle": "2023-07-03T18:22:16.240386Z",
     "shell.execute_reply": "2023-07-03T18:22:16.239067Z"
    },
    "papermill": {
     "duration": 0.031921,
     "end_time": "2023-07-03T18:22:16.242814",
     "exception": false,
     "start_time": "2023-07-03T18:22:16.210893",
     "status": "completed"
    },
    "tags": []
   },
   "outputs": [
    {
     "data": {
      "text/plain": [
       "array([1, 1, 1, ..., 0, 1, 0])"
      ]
     },
     "execution_count": 31,
     "metadata": {},
     "output_type": "execute_result"
    }
   ],
   "source": [
    "y_predict=lr.predict(te)\n",
    "y_predict"
   ]
  },
  {
   "cell_type": "code",
   "execution_count": 32,
   "id": "869d4efb",
   "metadata": {
    "execution": {
     "iopub.execute_input": "2023-07-03T18:22:16.277393Z",
     "iopub.status.busy": "2023-07-03T18:22:16.276762Z",
     "iopub.status.idle": "2023-07-03T18:22:16.298033Z",
     "shell.execute_reply": "2023-07-03T18:22:16.296754Z"
    },
    "papermill": {
     "duration": 0.041485,
     "end_time": "2023-07-03T18:22:16.300552",
     "exception": false,
     "start_time": "2023-07-03T18:22:16.259067",
     "status": "completed"
    },
    "tags": []
   },
   "outputs": [],
   "source": [
    "y_predict=[\"POSITIVE\" if label==1 else \"NEGATIVE\"for label in y_predict]"
   ]
  },
  {
   "cell_type": "code",
   "execution_count": 33,
   "id": "e381c410",
   "metadata": {
    "execution": {
     "iopub.execute_input": "2023-07-03T18:22:16.334479Z",
     "iopub.status.busy": "2023-07-03T18:22:16.333796Z",
     "iopub.status.idle": "2023-07-03T18:22:16.349631Z",
     "shell.execute_reply": "2023-07-03T18:22:16.348394Z"
    },
    "papermill": {
     "duration": 0.036615,
     "end_time": "2023-07-03T18:22:16.352631",
     "exception": false,
     "start_time": "2023-07-03T18:22:16.316016",
     "status": "completed"
    },
    "tags": []
   },
   "outputs": [],
   "source": [
    "prediction=y_predict\n",
    "id=[]\n",
    "for i in range (len(prediction)):\n",
    "    id.append(i)"
   ]
  },
  {
   "cell_type": "code",
   "execution_count": 34,
   "id": "cb00c7c7",
   "metadata": {
    "execution": {
     "iopub.execute_input": "2023-07-03T18:22:16.385986Z",
     "iopub.status.busy": "2023-07-03T18:22:16.385542Z",
     "iopub.status.idle": "2023-07-03T18:22:16.581061Z",
     "shell.execute_reply": "2023-07-03T18:22:16.579614Z"
    },
    "papermill": {
     "duration": 0.215198,
     "end_time": "2023-07-03T18:22:16.583849",
     "exception": false,
     "start_time": "2023-07-03T18:22:16.368651",
     "status": "completed"
    },
    "tags": []
   },
   "outputs": [],
   "source": [
    "final_prediction=pd.DataFrame({\"id\":id,\"sentiment\":prediction})\n",
    "final_prediction.to_csv(\"first_submission.csv\",index=False)"
   ]
  },
  {
   "cell_type": "code",
   "execution_count": 35,
   "id": "f2b5749d",
   "metadata": {
    "execution": {
     "iopub.execute_input": "2023-07-03T18:22:16.616996Z",
     "iopub.status.busy": "2023-07-03T18:22:16.616529Z",
     "iopub.status.idle": "2023-07-03T18:22:16.631506Z",
     "shell.execute_reply": "2023-07-03T18:22:16.630159Z"
    },
    "papermill": {
     "duration": 0.035584,
     "end_time": "2023-07-03T18:22:16.634936",
     "exception": false,
     "start_time": "2023-07-03T18:22:16.599352",
     "status": "completed"
    },
    "tags": []
   },
   "outputs": [
    {
     "data": {
      "text/html": [
       "<div>\n",
       "<style scoped>\n",
       "    .dataframe tbody tr th:only-of-type {\n",
       "        vertical-align: middle;\n",
       "    }\n",
       "\n",
       "    .dataframe tbody tr th {\n",
       "        vertical-align: top;\n",
       "    }\n",
       "\n",
       "    .dataframe thead th {\n",
       "        text-align: right;\n",
       "    }\n",
       "</style>\n",
       "<table border=\"1\" class=\"dataframe\">\n",
       "  <thead>\n",
       "    <tr style=\"text-align: right;\">\n",
       "      <th></th>\n",
       "      <th>id</th>\n",
       "      <th>sentiment</th>\n",
       "    </tr>\n",
       "  </thead>\n",
       "  <tbody>\n",
       "    <tr>\n",
       "      <th>0</th>\n",
       "      <td>0</td>\n",
       "      <td>POSITIVE</td>\n",
       "    </tr>\n",
       "    <tr>\n",
       "      <th>1</th>\n",
       "      <td>1</td>\n",
       "      <td>POSITIVE</td>\n",
       "    </tr>\n",
       "    <tr>\n",
       "      <th>2</th>\n",
       "      <td>2</td>\n",
       "      <td>POSITIVE</td>\n",
       "    </tr>\n",
       "    <tr>\n",
       "      <th>3</th>\n",
       "      <td>3</td>\n",
       "      <td>POSITIVE</td>\n",
       "    </tr>\n",
       "    <tr>\n",
       "      <th>4</th>\n",
       "      <td>4</td>\n",
       "      <td>POSITIVE</td>\n",
       "    </tr>\n",
       "    <tr>\n",
       "      <th>...</th>\n",
       "      <td>...</td>\n",
       "      <td>...</td>\n",
       "    </tr>\n",
       "    <tr>\n",
       "      <th>55310</th>\n",
       "      <td>55310</td>\n",
       "      <td>POSITIVE</td>\n",
       "    </tr>\n",
       "    <tr>\n",
       "      <th>55311</th>\n",
       "      <td>55311</td>\n",
       "      <td>POSITIVE</td>\n",
       "    </tr>\n",
       "    <tr>\n",
       "      <th>55312</th>\n",
       "      <td>55312</td>\n",
       "      <td>NEGATIVE</td>\n",
       "    </tr>\n",
       "    <tr>\n",
       "      <th>55313</th>\n",
       "      <td>55313</td>\n",
       "      <td>POSITIVE</td>\n",
       "    </tr>\n",
       "    <tr>\n",
       "      <th>55314</th>\n",
       "      <td>55314</td>\n",
       "      <td>NEGATIVE</td>\n",
       "    </tr>\n",
       "  </tbody>\n",
       "</table>\n",
       "<p>55315 rows × 2 columns</p>\n",
       "</div>"
      ],
      "text/plain": [
       "          id sentiment\n",
       "0          0  POSITIVE\n",
       "1          1  POSITIVE\n",
       "2          2  POSITIVE\n",
       "3          3  POSITIVE\n",
       "4          4  POSITIVE\n",
       "...      ...       ...\n",
       "55310  55310  POSITIVE\n",
       "55311  55311  POSITIVE\n",
       "55312  55312  NEGATIVE\n",
       "55313  55313  POSITIVE\n",
       "55314  55314  NEGATIVE\n",
       "\n",
       "[55315 rows x 2 columns]"
      ]
     },
     "execution_count": 35,
     "metadata": {},
     "output_type": "execute_result"
    }
   ],
   "source": [
    "final_prediction"
   ]
  }
 ],
 "metadata": {
  "kernelspec": {
   "display_name": "Python 3",
   "language": "python",
   "name": "python3"
  },
  "language_info": {
   "codemirror_mode": {
    "name": "ipython",
    "version": 3
   },
   "file_extension": ".py",
   "mimetype": "text/x-python",
   "name": "python",
   "nbconvert_exporter": "python",
   "pygments_lexer": "ipython3",
   "version": "3.10.10"
  },
  "papermill": {
   "default_parameters": {},
   "duration": 235.925981,
   "end_time": "2023-07-03T18:22:19.172500",
   "environment_variables": {},
   "exception": null,
   "input_path": "__notebook__.ipynb",
   "output_path": "__notebook__.ipynb",
   "parameters": {},
   "start_time": "2023-07-03T18:18:23.246519",
   "version": "2.4.0"
  }
 },
 "nbformat": 4,
 "nbformat_minor": 5
}
